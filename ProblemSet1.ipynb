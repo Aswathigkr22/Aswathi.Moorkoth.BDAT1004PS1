{
 "cells": [
  {
   "cell_type": "code",
   "execution_count": 633,
   "id": "d4e8967c",
   "metadata": {},
   "outputs": [
    {
     "name": "stdout",
     "output_type": "stream",
     "text": [
      "ANSWERS\n"
     ]
    }
   ],
   "source": [
    "print(\"ANSWERS\")"
   ]
  },
  {
   "cell_type": "code",
   "execution_count": null,
   "id": "be459189",
   "metadata": {},
   "outputs": [],
   "source": [
    "print(\"Question 1\")\n",
    "\n",
    "Value           Datatype\n",
    "5                 Integer\n",
    "5.0               Float   \n",
    "5 > 1             Boolean \n",
    "'5'               String\n",
    "5 * 2             integer\n",
    "'5' * 2           String\n",
    "'5' + '2'         integer(52)\n",
    "5 / 2             Float\n",
    "5 % 2             Integer\n",
    "{5, 2, 1}         Dictionaries\n",
    "5 == 3            Boolean  \n",
    "Pi (the number)   float\n"
   ]
  },
  {
   "cell_type": "code",
   "execution_count": 634,
   "id": "c37e5e64",
   "metadata": {},
   "outputs": [
    {
     "name": "stdout",
     "output_type": "stream",
     "text": [
      "Question2\n",
      "Answer a:  34\n",
      "Answer b:  1\n",
      "Answer c:  Supercalifragilisticexpialidocious\n",
      "Answer d:  ['Bartok', 'Bellini', 'Berlioz', 'Bernstein', 'Borodin', 'Brian', 'Buxtehude']\n"
     ]
    }
   ],
   "source": [
    "print('Question2')\n",
    "a = 'Supercalifragilisticexpialidocious'\n",
    "b = 'Honorificabilitudinitatibus'\n",
    "c = 'Bababadalgharaghtakamminarronnkonn'\n",
    "\n",
    "\n",
    "print(\"Answer a: \",len(a))\n",
    "\n",
    "print(\"Answer b: \",a.count('ice'))\n",
    "\n",
    "\n",
    "if(len(a) >= len(b)):\n",
    "    longestWord = a\n",
    "else:\n",
    "    longestWord = b\n",
    "\n",
    "        \n",
    "if(len(longestWord) >= len(c)):    \n",
    "     result = longestWord\n",
    "else :\n",
    "     result = c\n",
    "        \n",
    "print(\"Answer c: \",result)\n",
    "\n",
    "\n",
    "lst = ['Berlioz', 'Borodin', 'Brian','Bartok', 'Bellini', 'Buxtehude', 'Bernstein']\n",
    "\n",
    "lst.sort()\n",
    "print(\"Answer d: \",lst)\n"
   ]
  },
  {
   "cell_type": "code",
   "execution_count": 219,
   "id": "7c002f22",
   "metadata": {},
   "outputs": [
    {
     "name": "stdout",
     "output_type": "stream",
     "text": [
      "Question3\n",
      "Value of s =  3.0\n"
     ]
    },
    {
     "data": {
      "text/plain": [
       "1.7320508075688772"
      ]
     },
     "execution_count": 219,
     "metadata": {},
     "output_type": "execute_result"
    }
   ],
   "source": [
    "print('Question3')\n",
    "import math\n",
    "\n",
    "def triangleArea(a,b,c) :\n",
    "    s = (a+b+c)/2\n",
    "    print(\"Value of s = \",s)\n",
    "    area = math.sqrt(s*(s - a)*(s -b)*(s -c)) \n",
    "    return area\n",
    "\n",
    "triangleArea(2,2,2)\n"
   ]
  },
  {
   "cell_type": "code",
   "execution_count": 636,
   "id": "985f53b1",
   "metadata": {},
   "outputs": [
    {
     "name": "stdout",
     "output_type": "stream",
     "text": [
      "Question4\n",
      "Test Data :\n",
      "Input the number of elements to be stored in the array :5\n",
      "Input elements in the array :\n",
      "Enter Element - 0\n",
      "23\n",
      "Enter Element - 1\n",
      "12\n",
      "Enter Element - 2\n",
      "54\n",
      "Enter Element - 3\n",
      "45\n",
      "Enter Element - 4\n",
      "32\n",
      "Expected Output:\n",
      "The Even elements are: ['12', '54', '32']\n",
      "The Odd elements are: ['23', '45']\n"
     ]
    }
   ],
   "source": [
    "print('Question4')\n",
    "import math\n",
    "print(\"Test Data :\")\n",
    "\n",
    "total = input(\"Input the number of elements to be stored in the array :\")\n",
    "print(\"Input elements in the array :\")\n",
    "listEven=[]\n",
    "listOdd=[]\n",
    "for i in range(int(total)):\n",
    "    print(\"Enter Element -\",i)\n",
    "    elements = input ()\n",
    "    if (int(elements) % 2) == 0:\n",
    "        listEven.append(elements)\n",
    "    else:\n",
    "        listOdd.append(elements) \n",
    "\n",
    "print (\"Expected Output:\")\n",
    "print(\"The Even elements are:\",listEven)\n",
    "print(\"The Odd elements are:\",listOdd)\n",
    "    \n",
    "    \n",
    "\n",
    "      \n"
   ]
  },
  {
   "cell_type": "code",
   "execution_count": 220,
   "id": "00afa5cb",
   "metadata": {},
   "outputs": [
    {
     "name": "stdout",
     "output_type": "stream",
     "text": [
      "Question 5.a\n",
      "x0\n",
      "y0\n",
      "x1=-1\n",
      "y1=-1\n",
      "x2=2\n",
      "y2=2\n",
      "False\n"
     ]
    }
   ],
   "source": [
    "print('Question 5.a')\n",
    "\n",
    "def inside(a,b,a1,b1,a2,b2):\n",
    "    \n",
    "    if (((a>a1)and (a2>a)) and ((b>b1) and (b2>b))) :\n",
    "        retangle = False\n",
    "    else :\n",
    "        retangle = True\n",
    "    return retangle\n",
    "    \n",
    "\n",
    "x= input('x')\n",
    "y= input('y')\n",
    "\n",
    "x1= input('x1=')\n",
    "y1= input('y1=')\n",
    "\n",
    "x2= input('x2=')\n",
    "y2= input('y2=')\n",
    "\n",
    "print(inside(x,y,x1,y1,x2,y2))\n"
   ]
  },
  {
   "cell_type": "code",
   "execution_count": 247,
   "id": "9435bb8d",
   "metadata": {},
   "outputs": [
    {
     "name": "stdout",
     "output_type": "stream",
     "text": [
      "Question 5.b\n",
      "True\n"
     ]
    }
   ],
   "source": [
    "print('Question 5.b')\n",
    "\n",
    "def inside(a,b,a1,b1,a2,b2,a3,b3,a4,b4):\n",
    "    \n",
    "    if (((int(a)>int(a1)) and (int(a2)>int(a))) and ((int(b)>int(b1)) and (int(b2)>int(b)))) :\n",
    "        if(((int(a)>int(a3)) and (int(a4)>int(a))) and ((int(b)>int(b3)) and (int(b4)>int(b)))) :\n",
    "            rectangle = False\n",
    "        else :\n",
    "                rectangle = True\n",
    "    else :\n",
    "        rectangle = True\n",
    "        return rectangle\n",
    "              \n",
    "    \n",
    "    x = 1  \n",
    "    y = 1\n",
    "recX= 0.3\n",
    "recY= 0.5\n",
    "\n",
    "recX1= 1.1\n",
    "recY1= 0.7\n",
    "\n",
    "rec2X= 0.5\n",
    "rec2Y= 0.2\n",
    "\n",
    "rec2X1= 1.1\n",
    "rec2Y2= 2\n",
    "\n",
    "\n",
    "print(inside(x,y,recX,recY,recX1,recY1,rec2X,rec2Y,rec2X1,rec2Y2))\n"
   ]
  },
  {
   "cell_type": "code",
   "execution_count": 374,
   "id": "3fd228d5",
   "metadata": {},
   "outputs": [
    {
     "name": "stdout",
     "output_type": "stream",
     "text": [
      "Question 6\n",
      "Enter a string =enter\n",
      "e\n",
      "enterway\n"
     ]
    }
   ],
   "source": [
    "print('Question 6')\n",
    "\n",
    "def pig():\n",
    "    results = input(\"Enter a string = \")\n",
    "    print(results[0])\n",
    "    vowels = ['a','e','i','o','u']\n",
    "    wordLength = len(results)\n",
    "    firstValue = results[0] in vowels\n",
    "    \n",
    "    if(firstValue):\n",
    "        shiftedWord = results +'way' \n",
    "    else :\n",
    "        shiftedWord = results[1:] + results[0] +'ay'\n",
    "    print (shiftedWord)\n",
    "    \n",
    "\n",
    "pig()   "
   ]
  },
  {
   "cell_type": "code",
   "execution_count": 429,
   "id": "6c92a74a",
   "metadata": {},
   "outputs": [
    {
     "name": "stdout",
     "output_type": "stream",
     "text": [
      "Question 7\n",
      "https://stackoverflow.com/questions/12201928/open-gives-filenotfounderror-ioerror-errno-2-no-such-file-or-directory\n",
      "AB AB B O A A AB O AB A O O A A A O O O AB O A A A A A AB AB A AB O AB O A O O O AB O AB AB AB A A O \n",
      "There is 10 patient of blood  type A\n",
      "There is 1 patient of blood  type B\n",
      "There is 10 patient of blood  type AB\n",
      "There is 12 patient of blood  type O\n",
      "There is 0 patient of blood  type OO\n"
     ]
    }
   ],
   "source": [
    "print('Question 7')\n",
    "print(\"https://stackoverflow.com/questions/12201928/open-gives-filenotfounderror-ioerror-errno-2-no-such-file-or-directory\")\n",
    "infile = open(r'C:\\Users\\ASWATHI\\bloodtype1.txt','r+')\n",
    "content = infile.readlines()\n",
    "\n",
    "\n",
    "for char in content:\n",
    "    countAB = char.count(' AB ')\n",
    "    countA = char.count(' A ')\n",
    "    countB = char.count(' B ')\n",
    "    countO = char.count(' O ')\n",
    "    countOO = char.count(' OO ')\n",
    "\n",
    "    print(char)\n",
    "    \n",
    "    print(\"There is\",countA ,\"patient of blood  type A\")\n",
    "    print(\"There is\",countB ,\"patient of blood  type B\")\n",
    "    print(\"There is\",countAB ,\"patient of blood  type AB\")\n",
    "    print(\"There is\",countO,\"patient of blood  type O\")\n",
    "    print(\"There is\",countOO ,\"patient of blood  type OO\")\n",
    "                    \n",
    "\n",
    "    \n"
   ]
  },
  {
   "cell_type": "code",
   "execution_count": 631,
   "id": "a49787f0",
   "metadata": {},
   "outputs": [
    {
     "name": "stdout",
     "output_type": "stream",
     "text": [
      "Enter the currency=EUR\n",
      "Enter the amount =100\n",
      "122.96544\n"
     ]
    }
   ],
   "source": [
    "print(\"Question 8\")\n",
    "\n",
    "infi = open(r'C:\\Users\\ASWATHI\\currencies.txt')\n",
    "contents = infi.readlines()\n",
    "def curconv(cur,amt) :\n",
    "    for char in contents:\n",
    "        rate.append(char)\n",
    "        for i in rate:\n",
    "            aud = rate[0][3:14]\n",
    "            chf = rate[1][3:14]\n",
    "            cny = rate[2][3:14]\n",
    "            dkk = rate[3][3:14]\n",
    "            eur = rate[4][3:14]\n",
    "            gbp = rate[5][3:14]\n",
    "            hkd = rate[6][3:14]\n",
    "            inr = rate[7][3:14]\n",
    "            jpy = rate[8][3:14]\n",
    "            mxn = rate[9][3:14]\n",
    "            myr = rate[10][3:14]\n",
    "            nok = rate[11][3:14]\n",
    "            nzd = rate[12][3:14]\n",
    "            php = rate[13][3:14]\n",
    "            sek = rate[14][3:14]\n",
    "            sgd = rate[15][3:14]\n",
    "            thb = rate[16][3:14]\n",
    "            \n",
    "            if( cur == 'aud'):\n",
    "                convertedAmt = (float(aud)*float(amt))\n",
    "            elif(cur == 'chf'):\n",
    "                convertedAmt = (float(chf)*float(amt))\n",
    "            elif(cur == 'cny'):\n",
    "                convertedAmt = (float(cny)*float(amt))\n",
    "            elif(cur == 'dkk'):\n",
    "                convertedAmt = (float(dkk)*float(amt))\n",
    "            elif(cur == 'eur'):\n",
    "                convertedAmt = (float(eur)*float(amt))\n",
    "            elif(cur == 'gbp'):\n",
    "                convertedAmt = (float(gbp)*float(amt))\n",
    "            elif(cur == 'hkd'):\n",
    "                convertedAmt = (float(hkd)*float(amt))\n",
    "            elif(cur == 'inr'):\n",
    "                convertedAmt = (float(inr)*float(amt))\n",
    "            elif(cur == 'jpy'):\n",
    "                convertedAmt = (float(jpy)*float(amt))\n",
    "            elif(cur == 'mxn'):\n",
    "                convertedAmt = (float(mxn)*float(amt))\n",
    "            elif(cur == 'myr'):\n",
    "                convertedAmt = (float(myr)*float(amt))\n",
    "            elif(cur == 'nok'):\n",
    "                convertedAmt = (float(nok)*float(amt))\n",
    "            elif(cur == 'nzd'):\n",
    "                convertedAmt = (float(nzd)*float(amt))\n",
    "            elif(cur == 'php'):\n",
    "                convertedAmt = (float(php)*float(amt))\n",
    "            elif(cur == 'sek'):\n",
    "                convertedAmt = (float(sek)*float(amt))\n",
    "            elif(cur == 'sgd'):\n",
    "                convertedAmt = (float(sgd)*float(amt))\n",
    "            elif(cur == 'thb'):\n",
    "                convertedAmt = (float(thb)*float(amt))\n",
    "            else:\n",
    "                print(\"\")\n",
    "        \n",
    "    print(convertedAmt)             \n",
    "\n",
    "        \n",
    "currency = input(\"Enter the currency=\")\n",
    "amount =  input (\"Enter the amount =\")\n",
    "  \n",
    "curconv(currency.lower(), amount)\n",
    "\n",
    "\n",
    "    "
   ]
  },
  {
   "cell_type": "code",
   "execution_count": 632,
   "id": "798d781d",
   "metadata": {},
   "outputs": [
    {
     "name": "stdout",
     "output_type": "stream",
     "text": [
      "Question 9\n",
      "Trying to add incompatible variables, as in adding 6 + ‘a’\n",
      "Ans: TypeError\n",
      "Referring to the 12th item of a list that has only 10 items\n",
      "Ans: IndexError\n",
      "Using a value that is out of range for a function’s input, such as calling math.sqrt(-1.0)\n",
      "Ans: ValueError\n",
      "Using an undeclared variable, such as print(x)when x has not been defined \n",
      "Ans: NameError\n",
      "Trying to open a file that does not exist, such as mistyping the file name or looking in the wrong directory.\n",
      "Ans : FileNotFoundError\n"
     ]
    }
   ],
   "source": [
    "\n",
    "print(\"Question 9\")\n",
    "print(\"Trying to add incompatible variables, as in adding 6 + ‘a’\")\n",
    "print(\"Ans: TypeError\")\n",
    "\n",
    "print(\"Referring to the 12th item of a list that has only 10 items\")\n",
    "print(\"Ans: IndexError\")\n",
    "\n",
    "print(\"Using a value that is out of range for a function’s input, such as calling math.sqrt(-1.0)\")\n",
    "print(\"Ans: ValueError\")\n",
    "print(\"Using an undeclared variable, such as print(x)when x has not been defined \")\n",
    "print(\"Ans: NameError\")\n",
    "print(\"Trying to open a file that does not exist, such as mistyping the file name or looking in the wrong directory.\") \n",
    "print(\"Ans : FileNotFoundError\")"
   ]
  },
  {
   "cell_type": "code",
   "execution_count": 592,
   "id": "e0db8c9a",
   "metadata": {},
   "outputs": [
    {
     "name": "stdout",
     "output_type": "stream",
     "text": [
      "Enter the string:apple\n",
      "1\n",
      "2\n",
      "2\n",
      "1\n",
      "1\n"
     ]
    }
   ],
   "source": [
    "letters = 'abcdefghijklmnopqrstuvwxyz'\n",
    "\n",
    "def frequencies(texts):     \n",
    "    for items in texts:\n",
    "        vales = text.count(items)\n",
    "        if(vales != items):\n",
    "            print(vales)\n",
    "        \n",
    "    \n",
    "text = input(\"Enter the string:\") \n",
    "frequencies(text)            \n"
   ]
  },
  {
   "cell_type": "code",
   "execution_count": null,
   "id": "81e80fb1",
   "metadata": {},
   "outputs": [],
   "source": [
    "\n",
    "    "
   ]
  },
  {
   "cell_type": "code",
   "execution_count": null,
   "id": "3cf4c2e5",
   "metadata": {},
   "outputs": [],
   "source": []
  },
  {
   "cell_type": "code",
   "execution_count": null,
   "id": "92cc2f23",
   "metadata": {},
   "outputs": [],
   "source": []
  },
  {
   "cell_type": "code",
   "execution_count": null,
   "id": "95b75b2c",
   "metadata": {},
   "outputs": [],
   "source": []
  }
 ],
 "metadata": {
  "kernelspec": {
   "display_name": "Python 3 (ipykernel)",
   "language": "python",
   "name": "python3"
  },
  "language_info": {
   "codemirror_mode": {
    "name": "ipython",
    "version": 3
   },
   "file_extension": ".py",
   "mimetype": "text/x-python",
   "name": "python",
   "nbconvert_exporter": "python",
   "pygments_lexer": "ipython3",
   "version": "3.9.12"
  }
 },
 "nbformat": 4,
 "nbformat_minor": 5
}
